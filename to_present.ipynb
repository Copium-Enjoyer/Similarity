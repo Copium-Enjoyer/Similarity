{
 "cells": [
  {
   "cell_type": "markdown",
   "metadata": {},
   "source": [
    "# Imports"
   ]
  },
  {
   "cell_type": "code",
   "execution_count": 12,
   "metadata": {},
   "outputs": [],
   "source": [
    "import os\n",
    "import win32com.client\n",
    "from collections import Counter\n",
    "import re\n",
    "import math\n"
   ]
  },
  {
   "cell_type": "markdown",
   "metadata": {},
   "source": [
    "# Functions"
   ]
  },
  {
   "cell_type": "code",
   "execution_count": 20,
   "metadata": {},
   "outputs": [],
   "source": [
    "def extract_text_from_doc(doc_path):\n",
    "    # Create a COM object for Word\n",
    "    word_app = win32com.client.Dispatch(\"Word.Application\")\n",
    "\n",
    "    # Open the document\n",
    "    doc = word_app.Documents.Open(doc_path)\n",
    "\n",
    "    # Extract text from paragraphs\n",
    "    text = []\n",
    "    for paragraph in doc.Paragraphs:\n",
    "        text.append(paragraph.Range.Text)\n",
    "\n",
    "    # Close the document and Word application\n",
    "    doc.Close()\n",
    "    word_app.Quit()\n",
    "\n",
    "    return '\\n'.join(text)\n",
    "\n",
    "# calculating bag of words\n",
    "\n",
    "def preprocess_text(text):\n",
    "    # Convert to lowercase\n",
    "    text = text.lower()\n",
    "    # Remove punctuation and special characters\n",
    "    text = re.sub(r'[^\\w\\s]', '', text)\n",
    "    # Tokenize the text\n",
    "    words = text.split()\n",
    "    return words\n",
    "\n",
    "def calculate_bag_of_words(text):\n",
    "        content = text\n",
    "        words = preprocess_text(content)\n",
    "        bag_of_words = Counter(words)\n",
    "        return bag_of_words\n",
    "\n",
    "# similarities\n",
    "\n",
    "def jaccard_similarity(bag1, bag2):\n",
    "    set1 = set(bag1.keys())\n",
    "    set2 = set(bag2.keys())\n",
    "    intersection = set1.intersection(set2)\n",
    "    union = set1.union(set2)\n",
    "    return len(intersection) / len(union)\n",
    "\n",
    "def cosine_similarity(bag1, bag2):\n",
    "    dot_product = sum(bag1[word] * bag2.get(word, 0) for word in bag1)\n",
    "    magnitude1 = math.sqrt(sum(value ** 2 for value in bag1.values()))\n",
    "    magnitude2 = math.sqrt(sum(value ** 2 for value in bag2.values()))\n",
    "    return dot_product / (magnitude1 * magnitude2)\n",
    "\n",
    "def euclidean_distance(bag1, bag2):\n",
    "    common_words = set(bag1.keys()) & set(bag2.keys())\n",
    "    squared_diff_sum = sum((bag1[word] - bag2.get(word, 0)) ** 2 for word in common_words)\n",
    "    return math.sqrt(squared_diff_sum)\n",
    "\n",
    "# spot different words\n",
    "\n",
    "def different_words_between_bags(bag1, bag2):\n",
    "    words_in_bag1 = set(bag1.keys())\n",
    "    words_in_bag2 = set(bag2.keys())\n",
    "    \n",
    "    words_only_in_bag1 = words_in_bag1 - words_in_bag2\n",
    "    words_only_in_bag2 = words_in_bag2 - words_in_bag1\n",
    "    \n",
    "    return words_only_in_bag1, words_only_in_bag2\n",
    "\n",
    "def different_words_indices(text1, text2):\n",
    "    words1 = preprocess_text(text1)\n",
    "    words2 = preprocess_text(text2)\n",
    "    \n",
    "    different_indices = []\n",
    "    \n",
    "    for index, (word1, word2) in enumerate(zip(words1, words2)):\n",
    "        if word1 != word2:\n",
    "            different_indices.append((index, word1))\n",
    "            \n",
    "    \n",
    "    return different_indices\n"
   ]
  },
  {
   "cell_type": "markdown",
   "metadata": {},
   "source": [
    "# Paths"
   ]
  },
  {
   "cell_type": "code",
   "execution_count": 14,
   "metadata": {},
   "outputs": [],
   "source": [
    "# r\"path\"\n",
    "mailink_path = 'your_document.doc'\n",
    "engage_path = 'engage_doc.doc'\n"
   ]
  },
  {
   "cell_type": "markdown",
   "metadata": {},
   "source": [
    "# Bag of Words"
   ]
  },
  {
   "cell_type": "code",
   "execution_count": 15,
   "metadata": {},
   "outputs": [],
   "source": [
    "\n",
    "# extracted_mailink = extract_text_from_doc(mailink_path)\n",
    "# extracted_engage = extract_text_from_doc(engage_path)\n",
    "\n",
    "extracted_mailink = \"A linear model is a mathematical representation that assumes a linear relationship between input variables and the output.\"\n",
    "extracted_engage = \"A linear model is a polish representation that assumes a german relationship between input variables and the output again and again.\"\n"
   ]
  },
  {
   "cell_type": "code",
   "execution_count": 26,
   "metadata": {},
   "outputs": [
    {
     "name": "stdout",
     "output_type": "stream",
     "text": [
      "Bag of Words: Counter({'a': 3, 'linear': 2, 'model': 1, 'is': 1, 'mathematical': 1, 'representation': 1, 'that': 1, 'assumes': 1, 'relationship': 1, 'between': 1, 'input': 1, 'variables': 1, 'and': 1, 'the': 1, 'output': 1})\n",
      "Bag of Words: Counter({'a': 3, 'and': 2, 'again': 2, 'linear': 1, 'model': 1, 'is': 1, 'polish': 1, 'representation': 1, 'that': 1, 'assumes': 1, 'german': 1, 'relationship': 1, 'between': 1, 'input': 1, 'variables': 1, 'the': 1, 'output': 1})\n",
      "Euclidean distance:  1.4142135623730951\n",
      "Cosine distance:  0.8453639444116164\n",
      "Jaccard distance:  0.7777777777777778\n",
      "extracted_engage len 21\n",
      "extracted_mailink len 18\n",
      "Different words indices [(5, 'mathematical'), (10, 'linear')]\n",
      "Different words indices [(5, 'polish'), (10, 'german')]\n",
      "Different words indices [(5, 'mathematical'), (10, 'linear')]\n"
     ]
    }
   ],
   "source": [
    "\n",
    "bag_of_words_mailink = calculate_bag_of_words(extracted_mailink)\n",
    "bag_of_words_engage = calculate_bag_of_words(extracted_engage)\n",
    "\n",
    "print(\"Bag of Words:\", bag_of_words_mailink)\n",
    "print(\"Bag of Words:\", bag_of_words_engage)\n",
    "\n",
    "\n",
    "print(\"Euclidean distance: \", euclidean_distance(bag_of_words_mailink, bag_of_words_engage))\n",
    "# print(\"Cosine distance: \", cosine_similarity(bag_of_words_mailink, bag_of_words_engage))\n",
    "# print(\"Jaccard distance: \", jaccard_similarity(bag_of_words_mailink, bag_of_words_engage))\n",
    "\n",
    "different_indices = different_words_indices(extracted_engage, extracted_mailink)\n",
    "different_indices2 = different_words_indices(extracted_mailink, extracted_engage)\n",
    "\n",
    "\n",
    "print(\"extracted_engage len\", len(extracted_engage.split()))\n",
    "print(\"extracted_mailink len\", len(extracted_mailink.split()))\n",
    "\n",
    "print(\"Different words indices\", different_indices2)\n",
    "\n",
    "print(\"Different words indices\", different_indices)\n",
    "print(\"Different words indices\", different_indices2)\n",
    "\n",
    "\n",
    "\n",
    "# print(\"Different words indices\", different_words)\n",
    "\n",
    "\n",
    "\n",
    "\n",
    "\n",
    "\n",
    "\n"
   ]
  },
  {
   "cell_type": "markdown",
   "metadata": {},
   "source": []
  }
 ],
 "metadata": {
  "kernelspec": {
   "display_name": "base",
   "language": "python",
   "name": "python3"
  },
  "language_info": {
   "codemirror_mode": {
    "name": "ipython",
    "version": 3
   },
   "file_extension": ".py",
   "mimetype": "text/x-python",
   "name": "python",
   "nbconvert_exporter": "python",
   "pygments_lexer": "ipython3",
   "version": "3.9.7"
  },
  "orig_nbformat": 4
 },
 "nbformat": 4,
 "nbformat_minor": 2
}
